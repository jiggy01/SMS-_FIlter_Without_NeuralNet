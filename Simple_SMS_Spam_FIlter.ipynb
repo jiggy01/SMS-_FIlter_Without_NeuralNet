{
  "nbformat": 4,
  "nbformat_minor": 0,
  "metadata": {
    "colab": {
      "name": "Simple_SMS_Spam_FIlter.ipynb",
      "provenance": []
    },
    "kernelspec": {
      "name": "python3",
      "display_name": "Python 3"
    },
    "language_info": {
      "name": "python"
    }
  },
  "cells": [
    {
      "cell_type": "markdown",
      "source": [
        "# **Loading the DataSet**"
      ],
      "metadata": {
        "id": "MBS3-z2-lJfV"
      }
    },
    {
      "cell_type": "code",
      "source": [
        "from google.colab import drive\n",
        "import pandas as pd\n",
        "\n",
        "drive.mount(\"/content/drive\", force_remount=True)\n",
        "file_url = '/content/drive/My Drive/Colab Notebooks/Sms_Spam_Filter/SMSSpamCollection.txt'\n",
        "\n",
        "data = pd.read_csv(file_url, sep = '\\t', header=None, names=[\"label\", \"sms\"])\n",
        "data.head()\n",
        "\n"
      ],
      "metadata": {
        "colab": {
          "base_uri": "https://localhost:8080/",
          "height": 225
        },
        "id": "4DtmKGqPkTb8",
        "outputId": "86edbd9d-75a0-4007-8c82-368a0bc01723"
      },
      "execution_count": 4,
      "outputs": [
        {
          "output_type": "stream",
          "name": "stdout",
          "text": [
            "Mounted at /content/drive\n"
          ]
        },
        {
          "output_type": "execute_result",
          "data": {
            "text/html": [
              "\n",
              "  <div id=\"df-2e3d1cf5-868c-42a2-a9c5-748526e26e60\">\n",
              "    <div class=\"colab-df-container\">\n",
              "      <div>\n",
              "<style scoped>\n",
              "    .dataframe tbody tr th:only-of-type {\n",
              "        vertical-align: middle;\n",
              "    }\n",
              "\n",
              "    .dataframe tbody tr th {\n",
              "        vertical-align: top;\n",
              "    }\n",
              "\n",
              "    .dataframe thead th {\n",
              "        text-align: right;\n",
              "    }\n",
              "</style>\n",
              "<table border=\"1\" class=\"dataframe\">\n",
              "  <thead>\n",
              "    <tr style=\"text-align: right;\">\n",
              "      <th></th>\n",
              "      <th>label</th>\n",
              "      <th>sms</th>\n",
              "    </tr>\n",
              "  </thead>\n",
              "  <tbody>\n",
              "    <tr>\n",
              "      <th>0</th>\n",
              "      <td>ham</td>\n",
              "      <td>Go until jurong point, crazy.. Available only ...</td>\n",
              "    </tr>\n",
              "    <tr>\n",
              "      <th>1</th>\n",
              "      <td>ham</td>\n",
              "      <td>Ok lar... Joking wif u oni...</td>\n",
              "    </tr>\n",
              "    <tr>\n",
              "      <th>2</th>\n",
              "      <td>spam</td>\n",
              "      <td>Free entry in 2 a wkly comp to win FA Cup fina...</td>\n",
              "    </tr>\n",
              "    <tr>\n",
              "      <th>3</th>\n",
              "      <td>ham</td>\n",
              "      <td>U dun say so early hor... U c already then say...</td>\n",
              "    </tr>\n",
              "    <tr>\n",
              "      <th>4</th>\n",
              "      <td>ham</td>\n",
              "      <td>Nah I don't think he goes to usf, he lives aro...</td>\n",
              "    </tr>\n",
              "  </tbody>\n",
              "</table>\n",
              "</div>\n",
              "      <button class=\"colab-df-convert\" onclick=\"convertToInteractive('df-2e3d1cf5-868c-42a2-a9c5-748526e26e60')\"\n",
              "              title=\"Convert this dataframe to an interactive table.\"\n",
              "              style=\"display:none;\">\n",
              "        \n",
              "  <svg xmlns=\"http://www.w3.org/2000/svg\" height=\"24px\"viewBox=\"0 0 24 24\"\n",
              "       width=\"24px\">\n",
              "    <path d=\"M0 0h24v24H0V0z\" fill=\"none\"/>\n",
              "    <path d=\"M18.56 5.44l.94 2.06.94-2.06 2.06-.94-2.06-.94-.94-2.06-.94 2.06-2.06.94zm-11 1L8.5 8.5l.94-2.06 2.06-.94-2.06-.94L8.5 2.5l-.94 2.06-2.06.94zm10 10l.94 2.06.94-2.06 2.06-.94-2.06-.94-.94-2.06-.94 2.06-2.06.94z\"/><path d=\"M17.41 7.96l-1.37-1.37c-.4-.4-.92-.59-1.43-.59-.52 0-1.04.2-1.43.59L10.3 9.45l-7.72 7.72c-.78.78-.78 2.05 0 2.83L4 21.41c.39.39.9.59 1.41.59.51 0 1.02-.2 1.41-.59l7.78-7.78 2.81-2.81c.8-.78.8-2.07 0-2.86zM5.41 20L4 18.59l7.72-7.72 1.47 1.35L5.41 20z\"/>\n",
              "  </svg>\n",
              "      </button>\n",
              "      \n",
              "  <style>\n",
              "    .colab-df-container {\n",
              "      display:flex;\n",
              "      flex-wrap:wrap;\n",
              "      gap: 12px;\n",
              "    }\n",
              "\n",
              "    .colab-df-convert {\n",
              "      background-color: #E8F0FE;\n",
              "      border: none;\n",
              "      border-radius: 50%;\n",
              "      cursor: pointer;\n",
              "      display: none;\n",
              "      fill: #1967D2;\n",
              "      height: 32px;\n",
              "      padding: 0 0 0 0;\n",
              "      width: 32px;\n",
              "    }\n",
              "\n",
              "    .colab-df-convert:hover {\n",
              "      background-color: #E2EBFA;\n",
              "      box-shadow: 0px 1px 2px rgba(60, 64, 67, 0.3), 0px 1px 3px 1px rgba(60, 64, 67, 0.15);\n",
              "      fill: #174EA6;\n",
              "    }\n",
              "\n",
              "    [theme=dark] .colab-df-convert {\n",
              "      background-color: #3B4455;\n",
              "      fill: #D2E3FC;\n",
              "    }\n",
              "\n",
              "    [theme=dark] .colab-df-convert:hover {\n",
              "      background-color: #434B5C;\n",
              "      box-shadow: 0px 1px 3px 1px rgba(0, 0, 0, 0.15);\n",
              "      filter: drop-shadow(0px 1px 2px rgba(0, 0, 0, 0.3));\n",
              "      fill: #FFFFFF;\n",
              "    }\n",
              "  </style>\n",
              "\n",
              "      <script>\n",
              "        const buttonEl =\n",
              "          document.querySelector('#df-2e3d1cf5-868c-42a2-a9c5-748526e26e60 button.colab-df-convert');\n",
              "        buttonEl.style.display =\n",
              "          google.colab.kernel.accessAllowed ? 'block' : 'none';\n",
              "\n",
              "        async function convertToInteractive(key) {\n",
              "          const element = document.querySelector('#df-2e3d1cf5-868c-42a2-a9c5-748526e26e60');\n",
              "          const dataTable =\n",
              "            await google.colab.kernel.invokeFunction('convertToInteractive',\n",
              "                                                     [key], {});\n",
              "          if (!dataTable) return;\n",
              "\n",
              "          const docLinkHtml = 'Like what you see? Visit the ' +\n",
              "            '<a target=\"_blank\" href=https://colab.research.google.com/notebooks/data_table.ipynb>data table notebook</a>'\n",
              "            + ' to learn more about interactive tables.';\n",
              "          element.innerHTML = '';\n",
              "          dataTable['output_type'] = 'display_data';\n",
              "          await google.colab.output.renderOutput(dataTable, element);\n",
              "          const docLink = document.createElement('div');\n",
              "          docLink.innerHTML = docLinkHtml;\n",
              "          element.appendChild(docLink);\n",
              "        }\n",
              "      </script>\n",
              "    </div>\n",
              "  </div>\n",
              "  "
            ],
            "text/plain": [
              "  label                                                sms\n",
              "0   ham  Go until jurong point, crazy.. Available only ...\n",
              "1   ham                      Ok lar... Joking wif u oni...\n",
              "2  spam  Free entry in 2 a wkly comp to win FA Cup fina...\n",
              "3   ham  U dun say so early hor... U c already then say...\n",
              "4   ham  Nah I don't think he goes to usf, he lives aro..."
            ]
          },
          "metadata": {},
          "execution_count": 4
        }
      ]
    },
    {
      "cell_type": "markdown",
      "source": [
        "# **Pre-Processing**"
      ],
      "metadata": {
        "id": "QEui5yRmlFJU"
      }
    },
    {
      "cell_type": "code",
      "source": [
        "import string\n",
        "import nltk\n",
        "nltk.download('stopwords')\n",
        "nltk.download('punkt')\n",
        "\n",
        "stopwords = nltk.corpus.stopwords.words('english')\n",
        "punctuation = string.punctuation\n",
        "\n",
        "print(stopwords[:5])\n",
        "print(punctuation)"
      ],
      "metadata": {
        "colab": {
          "base_uri": "https://localhost:8080/"
        },
        "id": "IsR4iBT3kYe0",
        "outputId": "d2e66111-eb27-4c21-afa1-5453430f9edf"
      },
      "execution_count": 5,
      "outputs": [
        {
          "output_type": "stream",
          "name": "stdout",
          "text": [
            "[nltk_data] Downloading package stopwords to /root/nltk_data...\n",
            "[nltk_data]   Package stopwords is already up-to-date!\n",
            "[nltk_data] Downloading package punkt to /root/nltk_data...\n",
            "[nltk_data]   Package punkt is already up-to-date!\n",
            "['i', 'me', 'my', 'myself', 'we']\n",
            "!\"#$%&'()*+,-./:;<=>?@[\\]^_`{|}~\n"
          ]
        }
      ]
    },
    {
      "cell_type": "code",
      "source": [
        "def pre_process(sms):\n",
        "    remove_punct = \"\".join([word.lower() for word in sms if word not in punctuation])\n",
        "    tokenize = nltk.tokenize.word_tokenize(remove_punct)\n",
        "    remove_stopwords = [word for word in tokenize if word not in stopwords]\n",
        "    return remove_stopwords\n",
        "\n",
        "#adding a column to our data with our processed messages\n",
        "data['processed'] = data['sms'].apply(lambda x: pre_process(x))\n",
        "\n",
        "print(data['processed'].head())"
      ],
      "metadata": {
        "colab": {
          "base_uri": "https://localhost:8080/"
        },
        "id": "nAuD7BD0lYM0",
        "outputId": "3c2b3fdf-37bf-441b-9fe5-84da93452af1"
      },
      "execution_count": 6,
      "outputs": [
        {
          "output_type": "stream",
          "name": "stdout",
          "text": [
            "0    [go, jurong, point, crazy, available, bugis, n...\n",
            "1                       [ok, lar, joking, wif, u, oni]\n",
            "2    [free, entry, 2, wkly, comp, win, fa, cup, fin...\n",
            "3        [u, dun, say, early, hor, u, c, already, say]\n",
            "4    [nah, dont, think, goes, usf, lives, around, t...\n",
            "Name: processed, dtype: object\n"
          ]
        }
      ]
    },
    {
      "cell_type": "markdown",
      "source": [
        "# **Categorizing and Counting Tokens**"
      ],
      "metadata": {
        "id": "YV4IHxoNl4ql"
      }
    },
    {
      "cell_type": "code",
      "source": [
        "\n",
        "\n",
        "def categorize_words():\n",
        "    spam_words = []\n",
        "    ham_words = []\n",
        "    #handling messages associated with spam\n",
        "    for sms in data['processed'][data['label'] == 'spam']:\n",
        "        for word in sms:\n",
        "            spam_words.append(word)\n",
        "    #handling messages associated with ham\n",
        "    for sms in data['processed'][data['label'] == 'ham']:\n",
        "        for word in sms:\n",
        "            ham_words.append(word)\n",
        "    return spam_words, ham_words\n",
        "\n",
        "spam_words, ham_words = categorize_words()\n",
        "\n",
        "print(spam_words[:5])\n",
        "print(ham_words[:5])\n",
        "\n"
      ],
      "metadata": {
        "colab": {
          "base_uri": "https://localhost:8080/"
        },
        "id": "fHNV7-QNl73C",
        "outputId": "056b78da-71ea-4f61-f1fc-a01ce79da78f"
      },
      "execution_count": 7,
      "outputs": [
        {
          "output_type": "stream",
          "name": "stdout",
          "text": [
            "['free', 'entry', '2', 'wkly', 'comp']\n",
            "['go', 'jurong', 'point', 'crazy', 'available']\n"
          ]
        }
      ]
    },
    {
      "cell_type": "markdown",
      "source": [
        "# **Predict Function**"
      ],
      "metadata": {
        "id": "IHvEURR8mAkb"
      }
    },
    {
      "cell_type": "code",
      "source": [
        "def predict(sms):\n",
        "    spam_counter = 0\n",
        "    ham_counter = 0\n",
        "    #count the occurances of each word in the sms string\n",
        "    for word in sms:\n",
        "        spam_counter += spam_words.count(word)\n",
        "        ham_counter += ham_words.count(word)\n",
        "    print('***RESULTS***')\n",
        "    #if the message is ham\n",
        "    if ham_counter > spam_counter:\n",
        "        accuracy = round((ham_counter / (ham_counter + spam_counter) * 100))\n",
        "        print('messege is not spam, with {}% certainty'.format(accuracy))\n",
        "    #if the message could be equally spam and ham\n",
        "    elif ham_counter == spam_counter:\n",
        "        print('message could be spam')\n",
        "    #if the message is spam\n",
        "    else:\n",
        "        accuracy = round((spam_counter / (ham_counter + spam_counter)* 100))\n",
        "        print('message is spam, with {}% certainty'.format(accuracy))"
      ],
      "metadata": {
        "id": "qH7L814imD2c"
      },
      "execution_count": 8,
      "outputs": []
    },
    {
      "cell_type": "markdown",
      "source": [
        "## **Collecting User Input & Results**"
      ],
      "metadata": {
        "id": "RvpWI1PumJEb"
      }
    },
    {
      "cell_type": "code",
      "source": [
        "\n",
        "\n",
        "user_input = input(\"Please type a spam or ham message to check if our function predicts accurately\\n\")\n",
        "#pre-processing the input before prediction\n",
        "processed_input = pre_process(user_input)\n",
        "\n",
        "predict(processed_input)\n",
        "\n"
      ],
      "metadata": {
        "colab": {
          "base_uri": "https://localhost:8080/"
        },
        "id": "2qK7WifFmKo7",
        "outputId": "dbc069df-8573-40b2-e1f2-7e2e16171640"
      },
      "execution_count": 10,
      "outputs": [
        {
          "output_type": "stream",
          "name": "stdout",
          "text": [
            "Please type a spam or ham message to check if our function predicts accurately\n",
            "CRA has important information for you, call 1-800-789-7898 now!\n",
            "***RESULTS***\n",
            "message is spam, with 60% certainty\n"
          ]
        }
      ]
    },
    {
      "cell_type": "code",
      "source": [
        ""
      ],
      "metadata": {
        "id": "rGiduElhmNKM"
      },
      "execution_count": null,
      "outputs": []
    }
  ]
}